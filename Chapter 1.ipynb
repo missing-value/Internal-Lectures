{
 "cells": [
  {
   "cell_type": "code",
   "execution_count": 41,
   "metadata": {
    "collapsed": true
   },
   "outputs": [],
   "source": [
    "from IPython.display import Math, Latex"
   ]
  },
  {
   "cell_type": "markdown",
   "metadata": {},
   "source": [
    "Chapter I. Introduction (소개)\n",
    "============\n"
   ]
  },
  {
   "cell_type": "markdown",
   "metadata": {},
   "source": [
    "As the authors pointed out, the book is intended for **anyone** who wants to learn modern statistical learning. However, you would probably need to know very basic math such as functions and simple linear algebra(matrix operations).\n",
    "For example, you should know something like this:\n",
    "Suppose $ y = f(x) = x^2.$  \n",
    "If $ x = 3 $, then $ y = f(3) = 3^2 = 9 $."
   ]
  },
  {
   "cell_type": "markdown",
   "metadata": {},
   "source": [
    "Or something like these:\n",
    "$\n",
    "\\begin{bmatrix}\n",
    "    1       & 2  \\\\\n",
    "    3       & 4 \n",
    "\\end{bmatrix}^{-1}\n",
    "= \\frac{1}{1 \\cdot 4-3 \\cdot 2}\\begin{bmatrix}\n",
    "    4       & -2  \\\\\n",
    "    -3       & 1 \n",
    "\\end{bmatrix}\n",
    "$\n",
    "\n",
    "For $\n",
    "\\begin{bmatrix}\n",
    "    a       & b  \\\\\n",
    "    c       & d \n",
    "\\end{bmatrix}\n",
    "$, \n",
    "$\n",
    "\\begin{bmatrix}\n",
    "    a       & b  \\\\\n",
    "    c       & d \n",
    "\\end{bmatrix}^{-1}\n",
    "$\n",
    "does not exist if $ D(X) = ad-bc = 0$\n"
   ]
  },
  {
   "cell_type": "markdown",
   "metadata": {},
   "source": [
    "Throughout this lecture, we will use the notation used in the textbook.\n",
    "\n",
    "Let\n",
    "\\begin{equation}\n",
    "\\textbf{X} =\n",
    "\\begin{bmatrix}\n",
    "    x_{11}       & x_{12} & x_{31} & \\dots & x_{1p} \\\\\n",
    "    x_{21}       & x_{22} & x_{23} & \\dots & x_{2p} \\\\\n",
    "    \\vdots       & \\vdots & \\vdots & \\vdots & \\vdots \\\\\n",
    "    x_{n1}       & x_{n2} & x_{n3} & \\dots & x_{np}\n",
    "\\end{bmatrix}_{n \\times p}\n",
    "\\end{equation}\n",
    "Then,\n",
    "\\begin{equation}\n",
    "\\mathbf{X^{T}} =\n",
    "\\begin{bmatrix}\n",
    "    x_{11}       & x_{21} & x_{31} & \\dots & x_{n1} \\\\\n",
    "    x_{12}       & x_{22} & x_{32} & \\dots & x_{n2} \\\\\n",
    "    \\vdots       & \\vdots & \\vdots & \\vdots & \\vdots \\\\\n",
    "    x_{1p}       & x_{2p} & x_{3p} & \\dots & x_{np}\n",
    "\\end{bmatrix}_{p \\times n}\n",
    "\\end{equation}\n",
    "\n",
    "We define j-th column of $X$ as\n",
    "\\begin{equation}\n",
    "\\mathbf{x_j} =\n",
    "\\begin{bmatrix}\n",
    "    x_{1j}  \\\\\n",
    "    x_{2j}  \\\\\n",
    "    \\vdots  \\\\\n",
    "    x_{nj}  \n",
    "\\end{bmatrix}_{n \\times 1}\n",
    "\\end{equation}\n",
    "\n",
    "Then, \n",
    "\\begin{equation}\n",
    "\\mathbf{X} =\n",
    "\\begin{bmatrix}\n",
    "    \\mathbf{x_{1}} & \\mathbf{x_{2}} & \\mathbf{x_{3}} & \\dots & \\mathbf{x_{p}}\n",
    "\\end{bmatrix}_{n \\times 1}\n",
    "\\end{equation}\n",
    "\n",
    "\n",
    "Further,\n",
    "\\begin{equation}\n",
    "\\mathbf{y} =\n",
    "\\begin{bmatrix}\n",
    "    y_{1}  \\\\\n",
    "    y_{2}  \\\\\n",
    "    \\vdots  \\\\\n",
    "    y_{n}  \n",
    "\\end{bmatrix}_{n \\times 1}\n",
    "\\end{equation}\n",
    "\n",
    "\\begin{equation}\n",
    "\\mathbf{a} =\n",
    "\\begin{bmatrix}\n",
    "    a_{1}  \\\\\n",
    "    a_{2}  \\\\\n",
    "    \\vdots  \\\\\n",
    "    a_{n}  \n",
    "\\end{bmatrix}_{n \\times 1}\n",
    "\\end{equation}\n"
   ]
  }
 ],
 "metadata": {
  "kernelspec": {
   "display_name": "Python 3",
   "language": "python",
   "name": "python3"
  },
  "language_info": {
   "codemirror_mode": {
    "name": "ipython",
    "version": 3
   },
   "file_extension": ".py",
   "mimetype": "text/x-python",
   "name": "python",
   "nbconvert_exporter": "python",
   "pygments_lexer": "ipython3",
   "version": "3.4.3"
  }
 },
 "nbformat": 4,
 "nbformat_minor": 2
}
